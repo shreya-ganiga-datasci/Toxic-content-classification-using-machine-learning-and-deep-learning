{
  "nbformat": 4,
  "nbformat_minor": 0,
  "metadata": {
    "colab": {
      "provenance": [],
      "authorship_tag": "ABX9TyP4JpwxWM6uNKsQiToVeqPG",
      "include_colab_link": true
    },
    "kernelspec": {
      "name": "python3",
      "display_name": "Python 3"
    },
    "language_info": {
      "name": "python"
    }
  },
  "cells": [
    {
      "cell_type": "markdown",
      "metadata": {
        "id": "view-in-github",
        "colab_type": "text"
      },
      "source": [
        "<a href=\"https://colab.research.google.com/github/shreya-ganiga-datasci/Toxic-content-classification-using-machine-learning-and-deep-learning/blob/main/TOXIC_CONTENT_CLASSIFICATION_USING_MACHINE_LEARNING_AND_DEEP_LEARNING.ipynb\" target=\"_parent\"><img src=\"https://colab.research.google.com/assets/colab-badge.svg\" alt=\"Open In Colab\"/></a>"
      ]
    },
    {
      "cell_type": "markdown",
      "source": [
        "**Project Overview**\n",
        "\n",
        "The rapid growth of online platforms has led to a rise in toxic, offensive, and harmful comments. Identifying and filtering such content is crucial for ensuring safe and respectful digital interactions.\n",
        "This project focuses on building and comparing multiple Machine Learning (ML) and Deep Learning (DL) models to automatically classify text as toxic or non-toxic."
      ],
      "metadata": {
        "id": "2vYWDFNnHyPh"
      }
    },
    {
      "cell_type": "markdown",
      "source": [
        "**Step 0 — install & imports**"
      ],
      "metadata": {
        "id": "Sp4UQ76WDuKL"
      }
    },
    {
      "cell_type": "code",
      "source": [
        "# imports\n",
        "import os, re, joblib, numpy as np, pandas as pd\n",
        "from collections import Counter\n",
        "\n",
        "from sklearn.model_selection import train_test_split\n",
        "from sklearn.feature_extraction.text import TfidfVectorizer\n",
        "from sklearn.decomposition import TruncatedSVD\n",
        "from sklearn.metrics import accuracy_score, precision_score, recall_score, f1_score, classification_report\n",
        "\n",
        "from sklearn.ensemble import RandomForestClassifier\n",
        "from sklearn.svm import LinearSVC\n",
        "from sklearn.calibration import CalibratedClassifierCV\n",
        "from sklearn.neighbors import KNeighborsClassifier\n",
        "from sklearn.naive_bayes import MultinomialNB\n",
        "\n",
        "# tensorflow for CNN\n",
        "import tensorflow as tf\n",
        "from tensorflow.keras.preprocessing.text import Tokenizer\n",
        "from tensorflow.keras.preprocessing.sequence import pad_sequences\n",
        "from tensorflow.keras import Sequential\n",
        "from tensorflow.keras.layers import Embedding, Conv1D, GlobalMaxPooling1D, Dense, Dropout\n",
        "\n",
        "print(\"Imports ready. cwd:\", os.getcwd())\n"
      ],
      "metadata": {
        "colab": {
          "base_uri": "https://localhost:8080/"
        },
        "id": "XxyOJNMdDzGw",
        "outputId": "a44a6928-86c9-4884-9ec9-e4b6571369a4"
      },
      "execution_count": 2,
      "outputs": [
        {
          "output_type": "stream",
          "name": "stdout",
          "text": [
            "Imports ready. cwd: /content\n"
          ]
        }
      ]
    },
    {
      "cell_type": "markdown",
      "source": [
        "**Step 1 — load the dataset**"
      ],
      "metadata": {
        "id": "ew4YZZEvD7M4"
      }
    },
    {
      "cell_type": "code",
      "source": [
        "from google.colab import files\n",
        "uploaded = files.upload()\n"
      ],
      "metadata": {
        "colab": {
          "base_uri": "https://localhost:8080/",
          "height": 74
        },
        "id": "t2EW_ZFXDznd",
        "outputId": "24d50347-ef0e-4022-9b77-b5a91feb339b"
      },
      "execution_count": 4,
      "outputs": [
        {
          "output_type": "display_data",
          "data": {
            "text/plain": [
              "<IPython.core.display.HTML object>"
            ],
            "text/html": [
              "\n",
              "     <input type=\"file\" id=\"files-3ef89098-4e5b-4ab0-8a54-e2eed8f19b34\" name=\"files[]\" multiple disabled\n",
              "        style=\"border:none\" />\n",
              "     <output id=\"result-3ef89098-4e5b-4ab0-8a54-e2eed8f19b34\">\n",
              "      Upload widget is only available when the cell has been executed in the\n",
              "      current browser session. Please rerun this cell to enable.\n",
              "      </output>\n",
              "      <script>// Copyright 2017 Google LLC\n",
              "//\n",
              "// Licensed under the Apache License, Version 2.0 (the \"License\");\n",
              "// you may not use this file except in compliance with the License.\n",
              "// You may obtain a copy of the License at\n",
              "//\n",
              "//      http://www.apache.org/licenses/LICENSE-2.0\n",
              "//\n",
              "// Unless required by applicable law or agreed to in writing, software\n",
              "// distributed under the License is distributed on an \"AS IS\" BASIS,\n",
              "// WITHOUT WARRANTIES OR CONDITIONS OF ANY KIND, either express or implied.\n",
              "// See the License for the specific language governing permissions and\n",
              "// limitations under the License.\n",
              "\n",
              "/**\n",
              " * @fileoverview Helpers for google.colab Python module.\n",
              " */\n",
              "(function(scope) {\n",
              "function span(text, styleAttributes = {}) {\n",
              "  const element = document.createElement('span');\n",
              "  element.textContent = text;\n",
              "  for (const key of Object.keys(styleAttributes)) {\n",
              "    element.style[key] = styleAttributes[key];\n",
              "  }\n",
              "  return element;\n",
              "}\n",
              "\n",
              "// Max number of bytes which will be uploaded at a time.\n",
              "const MAX_PAYLOAD_SIZE = 100 * 1024;\n",
              "\n",
              "function _uploadFiles(inputId, outputId) {\n",
              "  const steps = uploadFilesStep(inputId, outputId);\n",
              "  const outputElement = document.getElementById(outputId);\n",
              "  // Cache steps on the outputElement to make it available for the next call\n",
              "  // to uploadFilesContinue from Python.\n",
              "  outputElement.steps = steps;\n",
              "\n",
              "  return _uploadFilesContinue(outputId);\n",
              "}\n",
              "\n",
              "// This is roughly an async generator (not supported in the browser yet),\n",
              "// where there are multiple asynchronous steps and the Python side is going\n",
              "// to poll for completion of each step.\n",
              "// This uses a Promise to block the python side on completion of each step,\n",
              "// then passes the result of the previous step as the input to the next step.\n",
              "function _uploadFilesContinue(outputId) {\n",
              "  const outputElement = document.getElementById(outputId);\n",
              "  const steps = outputElement.steps;\n",
              "\n",
              "  const next = steps.next(outputElement.lastPromiseValue);\n",
              "  return Promise.resolve(next.value.promise).then((value) => {\n",
              "    // Cache the last promise value to make it available to the next\n",
              "    // step of the generator.\n",
              "    outputElement.lastPromiseValue = value;\n",
              "    return next.value.response;\n",
              "  });\n",
              "}\n",
              "\n",
              "/**\n",
              " * Generator function which is called between each async step of the upload\n",
              " * process.\n",
              " * @param {string} inputId Element ID of the input file picker element.\n",
              " * @param {string} outputId Element ID of the output display.\n",
              " * @return {!Iterable<!Object>} Iterable of next steps.\n",
              " */\n",
              "function* uploadFilesStep(inputId, outputId) {\n",
              "  const inputElement = document.getElementById(inputId);\n",
              "  inputElement.disabled = false;\n",
              "\n",
              "  const outputElement = document.getElementById(outputId);\n",
              "  outputElement.innerHTML = '';\n",
              "\n",
              "  const pickedPromise = new Promise((resolve) => {\n",
              "    inputElement.addEventListener('change', (e) => {\n",
              "      resolve(e.target.files);\n",
              "    });\n",
              "  });\n",
              "\n",
              "  const cancel = document.createElement('button');\n",
              "  inputElement.parentElement.appendChild(cancel);\n",
              "  cancel.textContent = 'Cancel upload';\n",
              "  const cancelPromise = new Promise((resolve) => {\n",
              "    cancel.onclick = () => {\n",
              "      resolve(null);\n",
              "    };\n",
              "  });\n",
              "\n",
              "  // Wait for the user to pick the files.\n",
              "  const files = yield {\n",
              "    promise: Promise.race([pickedPromise, cancelPromise]),\n",
              "    response: {\n",
              "      action: 'starting',\n",
              "    }\n",
              "  };\n",
              "\n",
              "  cancel.remove();\n",
              "\n",
              "  // Disable the input element since further picks are not allowed.\n",
              "  inputElement.disabled = true;\n",
              "\n",
              "  if (!files) {\n",
              "    return {\n",
              "      response: {\n",
              "        action: 'complete',\n",
              "      }\n",
              "    };\n",
              "  }\n",
              "\n",
              "  for (const file of files) {\n",
              "    const li = document.createElement('li');\n",
              "    li.append(span(file.name, {fontWeight: 'bold'}));\n",
              "    li.append(span(\n",
              "        `(${file.type || 'n/a'}) - ${file.size} bytes, ` +\n",
              "        `last modified: ${\n",
              "            file.lastModifiedDate ? file.lastModifiedDate.toLocaleDateString() :\n",
              "                                    'n/a'} - `));\n",
              "    const percent = span('0% done');\n",
              "    li.appendChild(percent);\n",
              "\n",
              "    outputElement.appendChild(li);\n",
              "\n",
              "    const fileDataPromise = new Promise((resolve) => {\n",
              "      const reader = new FileReader();\n",
              "      reader.onload = (e) => {\n",
              "        resolve(e.target.result);\n",
              "      };\n",
              "      reader.readAsArrayBuffer(file);\n",
              "    });\n",
              "    // Wait for the data to be ready.\n",
              "    let fileData = yield {\n",
              "      promise: fileDataPromise,\n",
              "      response: {\n",
              "        action: 'continue',\n",
              "      }\n",
              "    };\n",
              "\n",
              "    // Use a chunked sending to avoid message size limits. See b/62115660.\n",
              "    let position = 0;\n",
              "    do {\n",
              "      const length = Math.min(fileData.byteLength - position, MAX_PAYLOAD_SIZE);\n",
              "      const chunk = new Uint8Array(fileData, position, length);\n",
              "      position += length;\n",
              "\n",
              "      const base64 = btoa(String.fromCharCode.apply(null, chunk));\n",
              "      yield {\n",
              "        response: {\n",
              "          action: 'append',\n",
              "          file: file.name,\n",
              "          data: base64,\n",
              "        },\n",
              "      };\n",
              "\n",
              "      let percentDone = fileData.byteLength === 0 ?\n",
              "          100 :\n",
              "          Math.round((position / fileData.byteLength) * 100);\n",
              "      percent.textContent = `${percentDone}% done`;\n",
              "\n",
              "    } while (position < fileData.byteLength);\n",
              "  }\n",
              "\n",
              "  // All done.\n",
              "  yield {\n",
              "    response: {\n",
              "      action: 'complete',\n",
              "    }\n",
              "  };\n",
              "}\n",
              "\n",
              "scope.google = scope.google || {};\n",
              "scope.google.colab = scope.google.colab || {};\n",
              "scope.google.colab._files = {\n",
              "  _uploadFiles,\n",
              "  _uploadFilesContinue,\n",
              "};\n",
              "})(self);\n",
              "</script> "
            ]
          },
          "metadata": {}
        },
        {
          "output_type": "stream",
          "name": "stdout",
          "text": [
            "Saving RacismDetectionDataSet.csv to RacismDetectionDataSet.csv\n"
          ]
        }
      ]
    },
    {
      "cell_type": "code",
      "source": [
        "\n",
        "FNAME = \"RacismDetectionDataSet.csv\"\n",
        "df = pd.read_csv(FNAME)\n",
        "\n",
        "# Quick checks\n",
        "print(\"Shape:\", df.shape)\n",
        "print(\"Columns:\", df.columns.tolist())\n",
        "print(df.head())\n"
      ],
      "metadata": {
        "colab": {
          "base_uri": "https://localhost:8080/"
        },
        "id": "GEVbzPq1EAhV",
        "outputId": "846e9fb2-902d-452d-da63-42577af36978"
      },
      "execution_count": 6,
      "outputs": [
        {
          "output_type": "stream",
          "name": "stdout",
          "text": [
            "Shape: (1999, 2)\n",
            "Columns: ['Comment', 'Label']\n",
            "                                             Comment  Label\n",
            "0  i was born a racist and I will die a racist I ...      1\n",
            "1                      bitch nigga miss me with that      1\n",
            "2  if you aint bout that murder game pussy nigga ...      1\n",
            "3  gay niggas couldnt wait to act like bitches to...      1\n",
            "4  why deos a gorilla always have a frown because...      1\n"
          ]
        }
      ]
    },
    {
      "cell_type": "code",
      "source": [
        "print(df.columns)\n",
        "print(df.head())\n"
      ],
      "metadata": {
        "colab": {
          "base_uri": "https://localhost:8080/"
        },
        "id": "MrfIEgmhGpxP",
        "outputId": "5c033cd0-6b48-4a82-c974-ec26adee00c2"
      },
      "execution_count": 19,
      "outputs": [
        {
          "output_type": "stream",
          "name": "stdout",
          "text": [
            "Index(['Comment', 'Label', 'Clean'], dtype='object')\n",
            "                                             Comment  Label  \\\n",
            "0  i was born a racist and I will die a racist I ...      1   \n",
            "1                      bitch nigga miss me with that      1   \n",
            "2  if you aint bout that murder game pussy nigga ...      1   \n",
            "3  gay niggas couldnt wait to act like bitches to...      1   \n",
            "4  why deos a gorilla always have a frown because...      1   \n",
            "\n",
            "                                               Clean  \n",
            "0  i was born a racist and i will die a racist i ...  \n",
            "1                      bitch nigga miss me with that  \n",
            "2  if you aint bout that murder game pussy nigga ...  \n",
            "3  gay niggas couldnt wait to act like bitches to...  \n",
            "4  why deos a gorilla always have a frown because...  \n"
          ]
        }
      ]
    },
    {
      "cell_type": "markdown",
      "source": [
        "**Step 1B: Exploratory Data Analysis (EDA) with Graphs**"
      ],
      "metadata": {
        "id": "WhBh5N16GVp1"
      }
    },
    {
      "cell_type": "code",
      "source": [
        "import matplotlib.pyplot as plt\n",
        "import seaborn as sns\n",
        "\n",
        "# Distribution of toxic vs non-toxic\n",
        "plt.figure(figsize=(6,4))\n",
        "sns.countplot(x=\"Label\", data=df, palette=\"Set2\")\n",
        "plt.title(\"Distribution of Toxic vs Non-Toxic Comments\")\n",
        "plt.xlabel(\"Label (0 = Non-Toxic, 1 = Toxic)\")\n",
        "plt.ylabel(\"Count\")\n",
        "plt.show()\n",
        "\n",
        "# Comment length analysis\n",
        "df[\"comment_length\"] = df[\"Comment\"].astype(str).apply(len)\n",
        "\n",
        "plt.figure(figsize=(6,4))\n",
        "sns.histplot(df[\"comment_length\"], bins=50, kde=True, color=\"purple\")\n",
        "plt.title(\"Distribution of Comment Lengths\")\n",
        "plt.xlabel(\"Comment Length (# characters)\")\n",
        "plt.ylabel(\"Frequency\")\n",
        "plt.show()\n",
        "\n",
        "# Average length per class\n",
        "plt.figure(figsize=(6,4))\n",
        "sns.boxplot(x=\"Label\", y=\"comment_length\", data=df, palette=\"Set1\")\n",
        "plt.title(\"Comment Length Distribution by Class\")\n",
        "plt.xlabel(\"Label (0 = Non-Toxic, 1 = Toxic)\")\n",
        "plt.ylabel(\"Length\")\n",
        "plt.show()\n"
      ],
      "metadata": {
        "colab": {
          "base_uri": "https://localhost:8080/",
          "height": 1000
        },
        "id": "9UBgdKjDGYsF",
        "outputId": "81e187b4-bf2d-4d6a-ba93-96e942373f77"
      },
      "execution_count": 20,
      "outputs": [
        {
          "output_type": "stream",
          "name": "stderr",
          "text": [
            "/tmp/ipython-input-3410469348.py:6: FutureWarning: \n",
            "\n",
            "Passing `palette` without assigning `hue` is deprecated and will be removed in v0.14.0. Assign the `x` variable to `hue` and set `legend=False` for the same effect.\n",
            "\n",
            "  sns.countplot(x=\"Label\", data=df, palette=\"Set2\")\n"
          ]
        },
        {
          "output_type": "display_data",
          "data": {
            "text/plain": [
              "<Figure size 600x400 with 1 Axes>"
            ],
            "image/png": "[encoded data removed]"
          },
          "metadata": {}
        },
        {
          "output_type": "display_data",
          "data": {
            "text/plain": [
              "<Figure size 600x400 with 1 Axes>"
            ],
            "image/png": "[encoded data removed]"
          },
          "metadata": {}
        },
        {
          "output_type": "stream",
          "name": "stderr",
          "text": [
            "/tmp/ipython-input-3410469348.py:24: FutureWarning: \n",
            "\n",
            "Passing `palette` without assigning `hue` is deprecated and will be removed in v0.14.0. Assign the `x` variable to `hue` and set `legend=False` for the same effect.\n",
            "\n",
            "  sns.boxplot(x=\"Label\", y=\"comment_length\", data=df, palette=\"Set1\")\n"
          ]
        },
        {
          "output_type": "display_data",
          "data": {
            "text/plain": [
              "<Figure size 600x400 with 1 Axes>"
            ],
            "image/png": "[encoded data removed]"
          },
          "metadata": {}
        }
      ]
    },
    {
      "cell_type": "markdown",
      "source": [
        "**Step 2 — define consistent cleaning (use raw regex strings)**"
      ],
      "metadata": {
        "id": "LsUltGjoEoE4"
      }
    },
    {
      "cell_type": "code",
      "source": [
        "def remove_pattern(text, pattern):\n",
        "    return re.sub(pattern, \"\", text)\n",
        "\n",
        "def clean_text(t):\n",
        "    if not isinstance(t, str):\n",
        "        return \"\"\n",
        "    t = remove_pattern(t, r\"@[\\w_]+\")                                    # mentions\n",
        "    t = remove_pattern(t, r\"#[\\w_]+\")                                    # hashtags\n",
        "    t = remove_pattern(t, r\"&[\\w_]+\")                                    # &words\n",
        "    t = remove_pattern(t, r\"(?:(?:https?|ftp):\\/\\/|www\\.)\\S+\")           # urls\n",
        "    t = re.sub(r\"[^a-zA-Z#]\", \" \", t)                                    # keep letters, replace others with space\n",
        "    t = re.sub(r\"\\s+\", \" \", t).strip().lower()\n",
        "    return t\n",
        "\n",
        "# test:\n",
        "examples = [\"You are BAE!\", \"@user check http://test.com\", \"RAPE is a crime\", \"cruel\"]\n",
        "print([(ex, clean_text(ex)) for ex in examples])\n"
      ],
      "metadata": {
        "colab": {
          "base_uri": "https://localhost:8080/"
        },
        "id": "2wgM-YiGEjNr",
        "outputId": "3653ef58-a455-4f22-a70d-296985cb6534"
      },
      "execution_count": 7,
      "outputs": [
        {
          "output_type": "stream",
          "name": "stdout",
          "text": [
            "[('You are BAE!', 'you are bae'), ('@user check http://test.com', 'check'), ('RAPE is a crime', 'rape is a crime'), ('cruel', 'cruel')]\n"
          ]
        }
      ]
    },
    {
      "cell_type": "markdown",
      "source": [
        "**Step 3 — build cleaned dataframe & check labels**"
      ],
      "metadata": {
        "id": "_u3SoMOMEwfg"
      }
    },
    {
      "cell_type": "code",
      "source": [
        "# adapt column names if needed\n",
        "if 'Comment' not in df.columns or 'Label' not in df.columns:\n",
        "    raise ValueError(\"Dataset must have 'Comment' and 'Label' columns\")\n",
        "\n",
        "df = df.dropna(subset=['Comment', 'Label']).reset_index(drop=True)\n",
        "df['Label'] = df['Label'].astype(int)           # ensure ints\n",
        "df['Clean'] = df['Comment'].apply(clean_text)\n",
        "df = df[df['Clean'].str.strip() != \"\"].reset_index(drop=True)   # drop empty cleaned lines\n",
        "\n",
        "print(\"After cleaning shape:\", df.shape)\n",
        "print(\"Label counts:\\n\", df['Label'].value_counts())\n",
        "print(df[['Comment','Clean','Label']].head(6))\n"
      ],
      "metadata": {
        "colab": {
          "base_uri": "https://localhost:8080/"
        },
        "id": "a3uVeM_ZEryr",
        "outputId": "5393cff4-e70a-4b91-e65d-9e3b7c1c804c"
      },
      "execution_count": 8,
      "outputs": [
        {
          "output_type": "stream",
          "name": "stdout",
          "text": [
            "After cleaning shape: (1999, 3)\n",
            "Label counts:\n",
            " Label\n",
            "1    1000\n",
            "0     999\n",
            "Name: count, dtype: int64\n",
            "                                             Comment  \\\n",
            "0  i was born a racist and I will die a racist I ...   \n",
            "1                      bitch nigga miss me with that   \n",
            "2  if you aint bout that murder game pussy nigga ...   \n",
            "3  gay niggas couldnt wait to act like bitches to...   \n",
            "4  why deos a gorilla always have a frown because...   \n",
            "5  fuck niggers, faggots, chinks sand niggers and...   \n",
            "\n",
            "                                               Clean  Label  \n",
            "0  i was born a racist and i will die a racist i ...      1  \n",
            "1                      bitch nigga miss me with that      1  \n",
            "2  if you aint bout that murder game pussy nigga ...      1  \n",
            "3  gay niggas couldnt wait to act like bitches to...      1  \n",
            "4  why deos a gorilla always have a frown because...      1  \n",
            "5  fuck niggers faggots chinks sand niggers and e...      1  \n"
          ]
        }
      ]
    },
    {
      "cell_type": "markdown",
      "source": [
        "**Step 4 — split data (train / val / test)**"
      ],
      "metadata": {
        "id": "k7ZMJMbsE5aG"
      }
    },
    {
      "cell_type": "code",
      "source": [
        "X = df['Clean'].tolist()\n",
        "y = df['Label'].tolist()\n",
        "\n",
        "# first split test (20%)\n",
        "X_temp, X_test, y_temp, y_test = train_test_split(X, y, test_size=0.2, random_state=42, stratify=y)\n",
        "\n",
        "# then split train/val from temp (val = 20% of remaining => 0.2 * 0.8 = 0.16 overall)\n",
        "X_train, X_val, y_train, y_val = train_test_split(X_temp, y_temp, test_size=0.2, random_state=42, stratify=y_temp)\n",
        "\n",
        "print(\"Sizes -> train:\", len(X_train), \"val:\", len(X_val), \"test:\", len(X_test))\n"
      ],
      "metadata": {
        "colab": {
          "base_uri": "https://localhost:8080/"
        },
        "id": "PnY3aBBREz_L",
        "outputId": "0e10d2fd-a7df-46f8-9e37-3392715a98ed"
      },
      "execution_count": 9,
      "outputs": [
        {
          "output_type": "stream",
          "name": "stdout",
          "text": [
            "Sizes -> train: 1279 val: 320 test: 400\n"
          ]
        }
      ]
    },
    {
      "cell_type": "markdown",
      "source": [
        "**Step 5 — vectorize for classical ML (TF-IDF with uni+bi-grams)**"
      ],
      "metadata": {
        "id": "yTG1Fp-QFAQl"
      }
    },
    {
      "cell_type": "code",
      "source": [
        "tfidf = TfidfVectorizer(ngram_range=(1,2), min_df=1, max_df=0.9, token_pattern=r\"(?u)\\b\\w\\w+\\b\")\n",
        "X_train_tfidf = tfidf.fit_transform(X_train)\n",
        "X_val_tfidf   = tfidf.transform(X_val)\n",
        "X_test_tfidf  = tfidf.transform(X_test)\n",
        "print(\"TF-IDF shapes:\", X_train_tfidf.shape, X_val_tfidf.shape, X_test_tfidf.shape)\n"
      ],
      "metadata": {
        "colab": {
          "base_uri": "https://localhost:8080/"
        },
        "id": "xzYUUTEDE8c2",
        "outputId": "856c4953-f6f2-404d-ac85-89a0ecd809d9"
      },
      "execution_count": 10,
      "outputs": [
        {
          "output_type": "stream",
          "name": "stdout",
          "text": [
            "TF-IDF shapes: (1279, 10126) (320, 10126) (400, 10126)\n"
          ]
        }
      ]
    },
    {
      "cell_type": "markdown",
      "source": [
        "**Step 6 — helper: metric function & threshold tuning**\n",
        "\n",
        "We’ll use F1 as main metric; also a helper to tune thresholds for probabilistic models.\n"
      ],
      "metadata": {
        "id": "TpGysjTeFDyq"
      }
    },
    {
      "cell_type": "code",
      "source": [
        "from sklearn.metrics import classification_report\n",
        "\n",
        "def print_metrics(name, y_true, y_pred):\n",
        "    print(f\"=== {name} ===\")\n",
        "    print(classification_report(y_true, y_pred, digits=4))\n",
        "\n",
        "def tune_threshold(model, X_val_vec, y_val, search=np.linspace(0.3,0.7,41)):\n",
        "    # model should have predict_proba\n",
        "    probs = model.predict_proba(X_val_vec)[:,1]\n",
        "    best, best_thr = -1, 0.5\n",
        "    for thr in search:\n",
        "        preds = (probs >= thr).astype(int)\n",
        "        f = f1_score(y_val, preds)\n",
        "        if f > best:\n",
        "            best, best_thr = f, thr\n",
        "    return best_thr, best\n"
      ],
      "metadata": {
        "id": "XrxJcC-qFCvt"
      },
      "execution_count": 11,
      "outputs": []
    },
    {
      "cell_type": "markdown",
      "source": [
        "**Step 7 — train classical models (RandomForest, SVM, Naive Bayes, KNN)**\n",
        "\n",
        "We’ll train RF, SVM (calibrated to get probabilities), NB, and KNN. For RF & KNN (expensive on sparse), we'll reduce TF-IDF via TruncatedSVD to dense vectors."
      ],
      "metadata": {
        "id": "T8abxIESFMiy"
      }
    },
    {
      "cell_type": "code",
      "source": [
        "# 7A: Prepare SVD reduction for RF and KNN (safe n_components)\n",
        "n_components = min(200, X_train_tfidf.shape[1]-1, X_train_tfidf.shape[0]-1)\n",
        "if n_components <= 0:\n",
        "    n_components = min(50, X_train_tfidf.shape[0]-1)\n",
        "svd = TruncatedSVD(n_components=n_components, random_state=42)\n",
        "X_train_svd = svd.fit_transform(X_train_tfidf)\n",
        "X_val_svd   = svd.transform(X_val_tfidf)\n",
        "X_test_svd  = svd.transform(X_test_tfidf)\n",
        "print(\"SVD shape:\", X_train_svd.shape)\n",
        "\n",
        "# 7B: Random Forest (on SVD dense)\n",
        "rf = RandomForestClassifier(n_estimators=200, random_state=42, class_weight=\"balanced\", n_jobs=-1)\n",
        "rf.fit(X_train_svd, y_train)\n",
        "rf_pred = rf.predict(X_val_svd)\n",
        "print_metrics(\"RandomForest (val)\", y_val, rf_pred)\n",
        "\n",
        "# 7C: LinearSVC calibrated -> gives predict_proba\n",
        "svc_base = LinearSVC(class_weight=\"balanced\", max_iter=5000)\n",
        "svc = CalibratedClassifierCV(svc_base, cv=3)   # calibrated for probabilities\n",
        "svc.fit(X_train_tfidf, y_train)\n",
        "svc_pred = svc.predict(X_val_tfidf)\n",
        "print_metrics(\"SVM (calibrated) (val)\", y_val, svc_pred)\n",
        "\n",
        "# 7D: Multinomial Naive Bayes (works directly on tfidf)\n",
        "nb = MultinomialNB()\n",
        "nb.fit(X_train_tfidf, y_train)\n",
        "nb_pred = nb.predict(X_val_tfidf)\n",
        "print_metrics(\"MultinomialNB (val)\", y_val, nb_pred)\n",
        "\n",
        "# 7E: KNN (on SVD dense). KNN can be slow — if too slow, train on subset.\n",
        "knn = KNeighborsClassifier(n_neighbors=5, n_jobs=-1)\n",
        "knn_train_limit = 5000\n",
        "if X_train_svd.shape[0] > knn_train_limit:\n",
        "    knn.fit(X_train_svd[:knn_train_limit], y_train[:knn_train_limit])\n",
        "    knn_pred = knn.predict(X_val_svd[:knn_train_limit])\n",
        "    print(\"KNN (subset) eval on subset\")\n",
        "    print_metrics(\"KNN (val subset)\", y_val[:knn_train_limit], knn_pred)\n",
        "else:\n",
        "    knn.fit(X_train_svd, y_train)\n",
        "    knn_pred = knn.predict(X_val_svd)\n",
        "    print_metrics(\"KNN (val)\", y_val, knn_pred)\n"
      ],
      "metadata": {
        "colab": {
          "base_uri": "https://localhost:8080/"
        },
        "id": "-USXe-oOFK9a",
        "outputId": "04312862-fa3f-4076-b039-7302f00f4ea6"
      },
      "execution_count": 12,
      "outputs": [
        {
          "output_type": "stream",
          "name": "stdout",
          "text": [
            "SVD shape: (1279, 200)\n",
            "=== RandomForest (val) ===\n",
            "              precision    recall  f1-score   support\n",
            "\n",
            "           0     0.8125    0.8125    0.8125       160\n",
            "           1     0.8125    0.8125    0.8125       160\n",
            "\n",
            "    accuracy                         0.8125       320\n",
            "   macro avg     0.8125    0.8125    0.8125       320\n",
            "weighted avg     0.8125    0.8125    0.8125       320\n",
            "\n",
            "=== SVM (calibrated) (val) ===\n",
            "              precision    recall  f1-score   support\n",
            "\n",
            "           0     0.8333    0.8438    0.8385       160\n",
            "           1     0.8418    0.8313    0.8365       160\n",
            "\n",
            "    accuracy                         0.8375       320\n",
            "   macro avg     0.8376    0.8375    0.8375       320\n",
            "weighted avg     0.8376    0.8375    0.8375       320\n",
            "\n",
            "=== MultinomialNB (val) ===\n",
            "              precision    recall  f1-score   support\n",
            "\n",
            "           0     0.8301    0.7937    0.8115       160\n",
            "           1     0.8024    0.8375    0.8196       160\n",
            "\n",
            "    accuracy                         0.8156       320\n",
            "   macro avg     0.8162    0.8156    0.8155       320\n",
            "weighted avg     0.8162    0.8156    0.8155       320\n",
            "\n",
            "=== KNN (val) ===\n",
            "              precision    recall  f1-score   support\n",
            "\n",
            "           0     0.6778    0.7625    0.7176       160\n",
            "           1     0.7286    0.6375    0.6800       160\n",
            "\n",
            "    accuracy                         0.7000       320\n",
            "   macro avg     0.7032    0.7000    0.6988       320\n",
            "weighted avg     0.7032    0.7000    0.6988       320\n",
            "\n"
          ]
        }
      ]
    },
    {
      "cell_type": "markdown",
      "source": [
        "**Step 8 — tune probability threshold for a chosen probabilistic model (e.g., NB or SVM after calibration)**\n",
        "\n",
        "Example with calibrated SVM (svc) or NB — pick whichever you prefer (we’ll use svc here because it provides predict_proba after calibration)."
      ],
      "metadata": {
        "id": "zJD5kTCwFYq8"
      }
    },
    {
      "cell_type": "code",
      "source": [
        "best_thr, best_f1 = tune_threshold(svc, X_val_tfidf, y_val, search=np.linspace(0.3,0.7,41))\n",
        "print(\"Best threshold for SVM (val):\", best_thr, \"F1:\", best_f1)\n",
        "\n",
        "# Example: get val probs and predicted labels with tuned threshold\n",
        "val_probs = svc.predict_proba(X_val_tfidf)[:,1]\n",
        "val_preds_thr = (val_probs >= best_thr).astype(int)\n",
        "print_metrics(f\"SVM (val) @thr={best_thr:.2f}\", y_val, val_preds_thr)\n"
      ],
      "metadata": {
        "colab": {
          "base_uri": "https://localhost:8080/"
        },
        "id": "n7lw0vXjFRmQ",
        "outputId": "fd2c02c1-8f9a-4357-b162-271d74344251"
      },
      "execution_count": 13,
      "outputs": [
        {
          "output_type": "stream",
          "name": "stdout",
          "text": [
            "Best threshold for SVM (val): 0.5399999999999999 F1: 0.8498402555910544\n",
            "=== SVM (val) @thr=0.54 ===\n",
            "              precision    recall  f1-score   support\n",
            "\n",
            "           0     0.8383    0.8750    0.8563       160\n",
            "           1     0.8693    0.8313    0.8498       160\n",
            "\n",
            "    accuracy                         0.8531       320\n",
            "   macro avg     0.8538    0.8531    0.8531       320\n",
            "weighted avg     0.8538    0.8531    0.8531       320\n",
            "\n"
          ]
        }
      ]
    },
    {
      "cell_type": "markdown",
      "source": [
        "**Step 9 — CNN: prepare sequences, build model, train & validate**"
      ],
      "metadata": {
        "id": "CpnhwIHLFgYQ"
      }
    },
    {
      "cell_type": "code",
      "source": [
        "# Tokenizer on whole cleaned corpus (or only train + val)\n",
        "VOCAB_SIZE = 20000\n",
        "tokenizer = Tokenizer(num_words=VOCAB_SIZE, oov_token=\"<OOV>\")\n",
        "tokenizer.fit_on_texts(X_train + X_val)  # fit on train+val to avoid peeking test\n",
        "\n",
        "MAX_LEN = 100\n",
        "X_train_seq = tokenizer.texts_to_sequences(X_train)\n",
        "X_val_seq   = tokenizer.texts_to_sequences(X_val)\n",
        "X_test_seq  = tokenizer.texts_to_sequences(X_test)\n",
        "X_train_pad = pad_sequences(X_train_seq, maxlen=MAX_LEN, padding='post')\n",
        "X_val_pad   = pad_sequences(X_val_seq,   maxlen=MAX_LEN, padding='post')\n",
        "X_test_pad  = pad_sequences(X_test_seq,  maxlen=MAX_LEN, padding='post')\n",
        "\n",
        "y_train_np = np.array(y_train)\n",
        "y_val_np   = np.array(y_val)\n",
        "y_test_np  = np.array(y_test)\n",
        "\n",
        "# CNN model (small)\n",
        "cnn = Sequential([\n",
        "    Embedding(input_dim=min(VOCAB_SIZE, len(tokenizer.word_index)+1), output_dim=128),\n",
        "    Conv1D(128, 5, activation='relu'),\n",
        "    GlobalMaxPooling1D(),\n",
        "    Dense(64, activation='relu'),\n",
        "    Dropout(0.5),\n",
        "    Dense(1, activation='sigmoid')\n",
        "])\n",
        "cnn.compile(loss='binary_crossentropy', optimizer='adam', metrics=['accuracy'])\n",
        "print(cnn.summary())\n",
        "\n",
        "# train (small epochs — increase as needed)\n",
        "cnn.fit(X_train_pad, y_train_np, validation_data=(X_val_pad, y_val_np), epochs=3, batch_size=64, verbose=1)\n",
        "\n",
        "# eval on val\n",
        "cnn_val_probs = cnn.predict(X_val_pad).ravel()\n",
        "cnn_val_pred = (cnn_val_probs >= 0.5).astype(int)\n",
        "print_metrics(\"CNN (val)\", y_val, cnn_val_pred)\n"
      ],
      "metadata": {
        "colab": {
          "base_uri": "https://localhost:8080/",
          "height": 664
        },
        "id": "v71fXA0xFbVg",
        "outputId": "5becf0b1-b31f-4731-d661-6ddecd1a886b"
      },
      "execution_count": 14,
      "outputs": [
        {
          "output_type": "display_data",
          "data": {
            "text/plain": [
              "\u001b[1mModel: \"sequential\"\u001b[0m\n"
            ],
            "text/html": [
              "<pre style=\"white-space:pre;overflow-x:auto;line-height:normal;font-family:Menlo,'DejaVu Sans Mono',consolas,'Courier New',monospace\"><span style=\"font-weight: bold\">Model: \"sequential\"</span>\n",
              "</pre>\n"
            ]
          },
          "metadata": {}
        },
        {
          "output_type": "display_data",
          "data": {
            "text/plain": [
              "┏━━━━━━━━━━━━━━━━━━━━━━━━━━━━━━━━━┳━━━━━━━━━━━━━━━━━━━━━━━━┳━━━━━━━━━━━━━━━┓\n",
              "┃\u001b[1m \u001b[0m\u001b[1mLayer (type)                   \u001b[0m\u001b[1m \u001b[0m┃\u001b[1m \u001b[0m\u001b[1mOutput Shape          \u001b[0m\u001b[1m \u001b[0m┃\u001b[1m \u001b[0m\u001b[1m      Param #\u001b[0m\u001b[1m \u001b[0m┃\n",
              "┡━━━━━━━━━━━━━━━━━━━━━━━━━━━━━━━━━╇━━━━━━━━━━━━━━━━━━━━━━━━╇━━━━━━━━━━━━━━━┩\n",
              "│ embedding (\u001b[38;5;33mEmbedding\u001b[0m)           │ ?                      │   \u001b[38;5;34m0\u001b[0m (unbuilt) │\n",
              "├─────────────────────────────────┼────────────────────────┼───────────────┤\n",
              "│ conv1d (\u001b[38;5;33mConv1D\u001b[0m)                 │ ?                      │   \u001b[38;5;34m0\u001b[0m (unbuilt) │\n",
              "├─────────────────────────────────┼────────────────────────┼───────────────┤\n",
              "│ global_max_pooling1d            │ ?                      │             \u001b[38;5;34m0\u001b[0m │\n",
              "│ (\u001b[38;5;33mGlobalMaxPooling1D\u001b[0m)            │                        │               │\n",
              "├─────────────────────────────────┼────────────────────────┼───────────────┤\n",
              "│ dense (\u001b[38;5;33mDense\u001b[0m)                   │ ?                      │   \u001b[38;5;34m0\u001b[0m (unbuilt) │\n",
              "├─────────────────────────────────┼────────────────────────┼───────────────┤\n",
              "│ dropout (\u001b[38;5;33mDropout\u001b[0m)               │ ?                      │             \u001b[38;5;34m0\u001b[0m │\n",
              "├─────────────────────────────────┼────────────────────────┼───────────────┤\n",
              "│ dense_1 (\u001b[38;5;33mDense\u001b[0m)                 │ ?                      │   \u001b[38;5;34m0\u001b[0m (unbuilt) │\n",
              "└─────────────────────────────────┴────────────────────────┴───────────────┘\n"
            ],
            "text/html": [
              "<pre style=\"white-space:pre;overflow-x:auto;line-height:normal;font-family:Menlo,'DejaVu Sans Mono',consolas,'Courier New',monospace\">┏━━━━━━━━━━━━━━━━━━━━━━━━━━━━━━━━━┳━━━━━━━━━━━━━━━━━━━━━━━━┳━━━━━━━━━━━━━━━┓\n",
              "┃<span style=\"font-weight: bold\"> Layer (type)                    </span>┃<span style=\"font-weight: bold\"> Output Shape           </span>┃<span style=\"font-weight: bold\">       Param # </span>┃\n",
              "┡━━━━━━━━━━━━━━━━━━━━━━━━━━━━━━━━━╇━━━━━━━━━━━━━━━━━━━━━━━━╇━━━━━━━━━━━━━━━┩\n",
              "│ embedding (<span style=\"color: #0087ff; text-decoration-color: #0087ff\">Embedding</span>)           │ ?                      │   <span style=\"color: #00af00; text-decoration-color: #00af00\">0</span> (unbuilt) │\n",
              "├─────────────────────────────────┼────────────────────────┼───────────────┤\n",
              "│ conv1d (<span style=\"color: #0087ff; text-decoration-color: #0087ff\">Conv1D</span>)                 │ ?                      │   <span style=\"color: #00af00; text-decoration-color: #00af00\">0</span> (unbuilt) │\n",
              "├─────────────────────────────────┼────────────────────────┼───────────────┤\n",
              "│ global_max_pooling1d            │ ?                      │             <span style=\"color: #00af00; text-decoration-color: #00af00\">0</span> │\n",
              "│ (<span style=\"color: #0087ff; text-decoration-color: #0087ff\">GlobalMaxPooling1D</span>)            │                        │               │\n",
              "├─────────────────────────────────┼────────────────────────┼───────────────┤\n",
              "│ dense (<span style=\"color: #0087ff; text-decoration-color: #0087ff\">Dense</span>)                   │ ?                      │   <span style=\"color: #00af00; text-decoration-color: #00af00\">0</span> (unbuilt) │\n",
              "├─────────────────────────────────┼────────────────────────┼───────────────┤\n",
              "│ dropout (<span style=\"color: #0087ff; text-decoration-color: #0087ff\">Dropout</span>)               │ ?                      │             <span style=\"color: #00af00; text-decoration-color: #00af00\">0</span> │\n",
              "├─────────────────────────────────┼────────────────────────┼───────────────┤\n",
              "│ dense_1 (<span style=\"color: #0087ff; text-decoration-color: #0087ff\">Dense</span>)                 │ ?                      │   <span style=\"color: #00af00; text-decoration-color: #00af00\">0</span> (unbuilt) │\n",
              "└─────────────────────────────────┴────────────────────────┴───────────────┘\n",
              "</pre>\n"
            ]
          },
          "metadata": {}
        },
        {
          "output_type": "display_data",
          "data": {
            "text/plain": [
              "\u001b[1m Total params: \u001b[0m\u001b[38;5;34m0\u001b[0m (0.00 B)\n"
            ],
            "text/html": [
              "<pre style=\"white-space:pre;overflow-x:auto;line-height:normal;font-family:Menlo,'DejaVu Sans Mono',consolas,'Courier New',monospace\"><span style=\"font-weight: bold\"> Total params: </span><span style=\"color: #00af00; text-decoration-color: #00af00\">0</span> (0.00 B)\n",
              "</pre>\n"
            ]
          },
          "metadata": {}
        },
        {
          "output_type": "display_data",
          "data": {
            "text/plain": [
              "\u001b[1m Trainable params: \u001b[0m\u001b[38;5;34m0\u001b[0m (0.00 B)\n"
            ],
            "text/html": [
              "<pre style=\"white-space:pre;overflow-x:auto;line-height:normal;font-family:Menlo,'DejaVu Sans Mono',consolas,'Courier New',monospace\"><span style=\"font-weight: bold\"> Trainable params: </span><span style=\"color: #00af00; text-decoration-color: #00af00\">0</span> (0.00 B)\n",
              "</pre>\n"
            ]
          },
          "metadata": {}
        },
        {
          "output_type": "display_data",
          "data": {
            "text/plain": [
              "\u001b[1m Non-trainable params: \u001b[0m\u001b[38;5;34m0\u001b[0m (0.00 B)\n"
            ],
            "text/html": [
              "<pre style=\"white-space:pre;overflow-x:auto;line-height:normal;font-family:Menlo,'DejaVu Sans Mono',consolas,'Courier New',monospace\"><span style=\"font-weight: bold\"> Non-trainable params: </span><span style=\"color: #00af00; text-decoration-color: #00af00\">0</span> (0.00 B)\n",
              "</pre>\n"
            ]
          },
          "metadata": {}
        },
        {
          "output_type": "stream",
          "name": "stdout",
          "text": [
            "None\n",
            "Epoch 1/3\n",
            "\u001b[1m20/20\u001b[0m \u001b[32m━━━━━━━━━━━━━━━━━━━━\u001b[0m\u001b[37m\u001b[0m \u001b[1m4s\u001b[0m 97ms/step - accuracy: 0.5170 - loss: 0.6912 - val_accuracy: 0.6844 - val_loss: 0.6783\n",
            "Epoch 2/3\n",
            "\u001b[1m20/20\u001b[0m \u001b[32m━━━━━━━━━━━━━━━━━━━━\u001b[0m\u001b[37m\u001b[0m \u001b[1m2s\u001b[0m 85ms/step - accuracy: 0.7001 - loss: 0.6587 - val_accuracy: 0.7719 - val_loss: 0.6214\n",
            "Epoch 3/3\n",
            "\u001b[1m20/20\u001b[0m \u001b[32m━━━━━━━━━━━━━━━━━━━━\u001b[0m\u001b[37m\u001b[0m \u001b[1m3s\u001b[0m 85ms/step - accuracy: 0.8737 - loss: 0.5320 - val_accuracy: 0.8594 - val_loss: 0.4521\n",
            "\u001b[1m10/10\u001b[0m \u001b[32m━━━━━━━━━━━━━━━━━━━━\u001b[0m\u001b[37m\u001b[0m \u001b[1m0s\u001b[0m 15ms/step\n",
            "=== CNN (val) ===\n",
            "              precision    recall  f1-score   support\n",
            "\n",
            "           0     0.8212    0.9187    0.8673       160\n",
            "           1     0.9078    0.8000    0.8505       160\n",
            "\n",
            "    accuracy                         0.8594       320\n",
            "   macro avg     0.8645    0.8594    0.8589       320\n",
            "weighted avg     0.8645    0.8594    0.8589       320\n",
            "\n"
          ]
        }
      ]
    },
    {
      "cell_type": "markdown",
      "source": [
        "**Step 10 — final evaluation on test set (after choosing threshold & model)**\n",
        "\n",
        "Pick a final model (or evaluate all) on the held-out test set. Example: evaluate NB, SVM (with tuned thr), RF, KNN, CNN. We’ll compute metrics and build a comparison table."
      ],
      "metadata": {
        "id": "n9Xmuac_Fn9_"
      }
    },
    {
      "cell_type": "code",
      "source": [
        "results = []\n",
        "\n",
        "# helper to add result\n",
        "def add_result(name, y_true, y_pred):\n",
        "    results.append({\n",
        "        \"Model\": name,\n",
        "        \"Accuracy\": accuracy_score(y_true, y_pred),\n",
        "        \"Precision\": precision_score(y_true, y_pred, zero_division=0),\n",
        "        \"Recall\": recall_score(y_true, y_pred, zero_division=0),\n",
        "        \"F1\": f1_score(y_true, y_pred, zero_division=0)\n",
        "    })\n",
        "\n",
        "# RF (SVD)\n",
        "rf_test_pred = rf.predict(X_test_svd)\n",
        "add_result(\"RandomForest\", y_test, rf_test_pred)\n",
        "\n",
        "# SVM calibrated with threshold best_thr (use X_test_tfidf)\n",
        "svc_test_proba = svc.predict_proba(X_test_tfidf)[:,1]\n",
        "svc_test_pred_thr = (svc_test_proba >= best_thr).astype(int)\n",
        "add_result(f\"SVM_thr_{best_thr:.2f}\", y_test, svc_test_pred_thr)\n",
        "\n",
        "# NB\n",
        "nb_test_pred = nb.predict(X_test_tfidf)\n",
        "add_result(\"NaiveBayes\", y_test, nb_test_pred)\n",
        "\n",
        "# KNN (if we used subset training earlier, evaluate subset)\n",
        "if X_train_svd.shape[0] > knn_train_limit:\n",
        "    knn_test_pred = knn.predict(X_test_svd[:knn_train_limit])\n",
        "    add_result(\"KNN_subset\", y_test[:knn_train_limit], knn_test_pred)\n",
        "else:\n",
        "    knn_test_pred = knn.predict(X_test_svd)\n",
        "    add_result(\"KNN\", y_test, knn_test_pred)\n",
        "\n",
        "# CNN\n",
        "cnn_test_probs = cnn.predict(X_test_pad).ravel()\n",
        "cnn_test_pred = (cnn_test_probs >= 0.5).astype(int)\n",
        "add_result(\"CNN\", y_test, cnn_test_pred)\n",
        "\n",
        "# Show table\n",
        "results_df = pd.DataFrame(results).sort_values(\"F1\", ascending=False)\n",
        "print(results_df)\n"
      ],
      "metadata": {
        "colab": {
          "base_uri": "https://localhost:8080/"
        },
        "id": "p_9fBUPZFjlu",
        "outputId": "295163ed-be23-461d-f1f0-038f97b98d1d"
      },
      "execution_count": 15,
      "outputs": [
        {
          "output_type": "stream",
          "name": "stdout",
          "text": [
            "\u001b[1m13/13\u001b[0m \u001b[32m━━━━━━━━━━━━━━━━━━━━\u001b[0m\u001b[37m\u001b[0m \u001b[1m0s\u001b[0m 17ms/step\n",
            "          Model  Accuracy  Precision  Recall        F1\n",
            "1  SVM_thr_0.54    0.8675   0.888889   0.840  0.863753\n",
            "4           CNN    0.8475   0.879781   0.805  0.840731\n",
            "2    NaiveBayes    0.8225   0.805687   0.850  0.827251\n",
            "0  RandomForest    0.7975   0.781991   0.825  0.802920\n",
            "3           KNN    0.7175   0.737705   0.675  0.704961\n"
          ]
        }
      ]
    },
    {
      "cell_type": "markdown",
      "source": [
        "**Step 11 — save artifacts and inference helper**\n",
        "\n",
        "Save vectorizer, SVD, tokenizer, and model files; create a function predict_sentence() to accept a text and chosen model and return \"toxic\"/\"non-toxic\"."
      ],
      "metadata": {
        "id": "_P_sjLSgF0Bu"
      }
    },
    {
      "cell_type": "code",
      "source": [
        "# Save commonly needed artifacts\n",
        "joblib.dump(tfidf, \"tfidf.joblib\")\n",
        "joblib.dump(svd, \"svd.joblib\")\n",
        "joblib.dump(rf, \"rf_model.joblib\")\n",
        "joblib.dump(svc, \"svc_calibrated.joblib\")\n",
        "joblib.dump(nb, \"nb_model.joblib\")\n",
        "joblib.dump(knn, \"knn_model.joblib\")\n",
        "joblib.dump(lr if 'lr' in globals() else rf, \"placeholder_model.joblib\")  # optional\n",
        "cnn.save(\"cnn_model.keras\")\n",
        "with open(\"tokenizer.json\", \"w\") as f:\n",
        "    f.write(tokenizer.to_json())\n",
        "\n",
        "# Inference helper that cleans input, transforms, uses threshold when model provides prob\n",
        "label_map = {0: \"non-toxic\", 1: \"toxic\"}\n",
        "\n",
        "def predict_sentence(text, model_name=\"SVM\", threshold=None):\n",
        "    t = clean_text(text)\n",
        "    if model_name == \"CNN\":\n",
        "        seq = tokenizer.texts_to_sequences([t])\n",
        "        pad = pad_sequences(seq, maxlen=MAX_LEN, padding='post')\n",
        "        prob = float(cnn.predict(pad)[0,0])\n",
        "        pred = 1 if prob >= (0.5 if threshold is None else threshold) else 0\n",
        "        return label_map[pred], prob\n",
        "    # else classical\n",
        "    Xv = tfidf.transform([t])\n",
        "    if model_name == \"RandomForest\":\n",
        "        Xv_s = svd.transform(Xv)\n",
        "        model = rf\n",
        "    elif model_name == \"SVM\":\n",
        "        model = svc\n",
        "    elif model_name == \"NaiveBayes\":\n",
        "        model = nb\n",
        "    elif model_name == \"KNN\":\n",
        "        Xv_s = svd.transform(Xv)\n",
        "        model = knn\n",
        "    else:\n",
        "        raise ValueError(\"Unknown model\")\n",
        "    if hasattr(model, \"predict_proba\"):\n",
        "        prob = float(model.predict_proba(Xv if model_name!=\"RandomForest\" else Xv_s)[0,1])\n",
        "        thr = 0.5 if threshold is None else threshold\n",
        "        pred = 1 if prob >= thr else 0\n",
        "        return label_map[pred], prob\n",
        "    else:\n",
        "        # fallback uses decision_function -> sigmoid approx\n",
        "        score = model.decision_function(Xv if model_name!=\"RandomForest\" else Xv_s)\n",
        "        prob = float(1/(1+np.exp(-score))[0])\n",
        "        thr = 0.5 if threshold is None else threshold\n",
        "        pred = 1 if prob >= thr else 0\n",
        "        return label_map[pred], prob\n"
      ],
      "metadata": {
        "id": "wVSSLbYhFvtr"
      },
      "execution_count": 16,
      "outputs": []
    },
    {
      "cell_type": "markdown",
      "source": [
        "**Step 12 — interactive test loop**\n",
        "\n",
        "Run this cell to type sentences and get predictions. Choose model and threshold if you want."
      ],
      "metadata": {
        "id": "cELDZ13KF8lm"
      }
    },
    {
      "cell_type": "code",
      "source": [
        "# Example interactive loop (in notebook)\n",
        "MODEL = \"SVM\"          # choose: \"RandomForest\",\"SVM\",\"NaiveBayes\",\"KNN\",\"CNN\"\n",
        "THRESH = best_thr if 'best_thr' in globals() else 0.45\n",
        "\n",
        "while True:\n",
        "    s = input(\"Enter sentence (or 'quit'): \").strip()\n",
        "    if s.lower() in ('quit','exit'):\n",
        "        break\n",
        "    label, prob = predict_sentence(s, model_name=MODEL, threshold=THRESH)\n",
        "    if prob is not None:\n",
        "        print(f\"Prediction: {label} (prob={prob:.3f})\")\n",
        "    else:\n",
        "        print(f\"Prediction: {label}\")\n"
      ],
      "metadata": {
        "colab": {
          "base_uri": "https://localhost:8080/"
        },
        "id": "fYeITCA3F22-",
        "outputId": "b408f404-cf87-48cf-f204-21860487874b"
      },
      "execution_count": 17,
      "outputs": [
        {
          "name": "stdout",
          "output_type": "stream",
          "text": [
            "Enter sentence (or 'quit'): Im bad person\n",
            "Prediction: toxic (prob=0.700)\n",
            "Enter sentence (or 'quit'): Im cruel\n",
            "Prediction: toxic (prob=0.654)\n",
            "Enter sentence (or 'quit'): Im beautiful\n",
            "Prediction: non-toxic (prob=0.515)\n",
            "Enter sentence (or 'quit'): quit\n"
          ]
        }
      ]
    },
    {
      "cell_type": "code",
      "source": [],
      "metadata": {
        "id": "o-JjPdLEF_HC"
      },
      "execution_count": 17,
      "outputs": []
    }
  ]
}